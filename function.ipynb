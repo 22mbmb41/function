{
 "cells": [
  {
   "cell_type": "code",
   "execution_count": 1,
   "id": "06dbda24-c3c1-499f-ba71-f81a7740e372",
   "metadata": {},
   "outputs": [],
   "source": [
    "j=[15,18,19,20,11,12,14,23]"
   ]
  },
  {
   "cell_type": "code",
   "execution_count": 2,
   "id": "91fd8c52-d966-4970-82ce-82c198bda107",
   "metadata": {},
   "outputs": [
    {
     "data": {
      "text/plain": [
       "8"
      ]
     },
     "execution_count": 2,
     "metadata": {},
     "output_type": "execute_result"
    }
   ],
   "source": [
    "len(j)"
   ]
  },
  {
   "cell_type": "code",
   "execution_count": 4,
   "id": "f1c8ea4b-03fb-496d-b756-08e0bfa129b3",
   "metadata": {},
   "outputs": [],
   "source": [
    "def test3():\n",
    "    return \"this is second definition function \""
   ]
  },
  {
   "cell_type": "code",
   "execution_count": 5,
   "id": "1c3518fd-60ec-4916-8153-06d132acc399",
   "metadata": {},
   "outputs": [
    {
     "data": {
      "text/plain": [
       "'this is second definition function '"
      ]
     },
     "execution_count": 5,
     "metadata": {},
     "output_type": "execute_result"
    }
   ],
   "source": [
    "test3()"
   ]
  },
  {
   "cell_type": "code",
   "execution_count": 6,
   "id": "3e4e4f99-ea80-4f54-8d97-fd1e745cada9",
   "metadata": {},
   "outputs": [
    {
     "data": {
      "text/plain": [
       "'this is second definition function dhruv'"
      ]
     },
     "execution_count": 6,
     "metadata": {},
     "output_type": "execute_result"
    }
   ],
   "source": [
    "test3()+'dhruv'"
   ]
  },
  {
   "cell_type": "code",
   "execution_count": 7,
   "id": "dc077827-3b8f-408b-b9c5-8c8017326b12",
   "metadata": {},
   "outputs": [],
   "source": [
    "def test4():\n",
    "    print(\"dhruv is a good man but not pure god\")"
   ]
  },
  {
   "cell_type": "code",
   "execution_count": 8,
   "id": "c85f7af2-f0e9-454b-af30-690e42111154",
   "metadata": {},
   "outputs": [
    {
     "name": "stdout",
     "output_type": "stream",
     "text": [
      "dhruv is a good man but not pure god\n"
     ]
    }
   ],
   "source": [
    "test4()"
   ]
  },
  {
   "cell_type": "code",
   "execution_count": 10,
   "id": "77e58872-112f-4c11-992e-eb8ed830f85e",
   "metadata": {},
   "outputs": [
    {
     "name": "stdout",
     "output_type": "stream",
     "text": [
      "dhruv is a good man but not pure god\n"
     ]
    },
    {
     "ename": "TypeError",
     "evalue": "unsupported operand type(s) for +: 'NoneType' and 'str'",
     "output_type": "error",
     "traceback": [
      "\u001b[0;31m---------------------------------------------------------------------------\u001b[0m",
      "\u001b[0;31mTypeError\u001b[0m                                 Traceback (most recent call last)",
      "Cell \u001b[0;32mIn[10], line 1\u001b[0m\n\u001b[0;32m----> 1\u001b[0m \u001b[43mtest4\u001b[49m\u001b[43m(\u001b[49m\u001b[43m)\u001b[49m\u001b[38;5;241;43m+\u001b[39;49m\u001b[38;5;124;43m'\u001b[39;49m\u001b[38;5;124;43mperson\u001b[39;49m\u001b[38;5;124;43m'\u001b[39;49m\n",
      "\u001b[0;31mTypeError\u001b[0m: unsupported operand type(s) for +: 'NoneType' and 'str'"
     ]
    }
   ],
   "source": [
    "test4()+'person'"
   ]
  },
  {
   "cell_type": "code",
   "execution_count": 13,
   "id": "3aee7480-3b1c-4e49-98ed-99b368b1c76e",
   "metadata": {},
   "outputs": [],
   "source": [
    "def test5():\n",
    "    return \"definition is very good function and test5 is hard \""
   ]
  },
  {
   "cell_type": "code",
   "execution_count": 14,
   "id": "25278a70-3166-4765-9a4b-b2a6b7de7513",
   "metadata": {},
   "outputs": [
    {
     "data": {
      "text/plain": [
       "'definition is very good function and test5 is hard to solve'"
      ]
     },
     "execution_count": 14,
     "metadata": {},
     "output_type": "execute_result"
    }
   ],
   "source": [
    "test5() + 'to solve'"
   ]
  },
  {
   "cell_type": "code",
   "execution_count": null,
   "id": "dd0380fb-170e-41a3-bc8d-f9b6f72814c6",
   "metadata": {},
   "outputs": [],
   "source": [
    " def test3() : \n",
    "        \n",
    "        return \"sudh\" , 23, 345.56 , [1,2,3,3]"
   ]
  },
  {
   "cell_type": "code",
   "execution_count": 15,
   "id": "c94567f3-f142-488d-af3b-8c6b4dbd6479",
   "metadata": {},
   "outputs": [],
   "source": [
    "def test6():\n",
    "    return \"sudhakar\" , 25 , 250.85 ,[1,2,3,4]"
   ]
  },
  {
   "cell_type": "code",
   "execution_count": 16,
   "id": "cc363d3a-7770-4aa7-8ae0-afe6e1cafd30",
   "metadata": {},
   "outputs": [],
   "source": [
    "a,b,c,d=test6()"
   ]
  },
  {
   "cell_type": "code",
   "execution_count": 17,
   "id": "5fca9f08-db4e-4258-855f-9dbe44485c64",
   "metadata": {},
   "outputs": [
    {
     "data": {
      "text/plain": [
       "('sudhakar', 25, 250.85, [1, 2, 3, 4])"
      ]
     },
     "execution_count": 17,
     "metadata": {},
     "output_type": "execute_result"
    }
   ],
   "source": [
    "a,b,c,d"
   ]
  },
  {
   "cell_type": "code",
   "execution_count": 18,
   "id": "252a214b-6392-4e2f-a019-a86775b41106",
   "metadata": {},
   "outputs": [
    {
     "data": {
      "text/plain": [
       "275.85"
      ]
     },
     "execution_count": 18,
     "metadata": {},
     "output_type": "execute_result"
    }
   ],
   "source": [
    "b+c"
   ]
  },
  {
   "cell_type": "code",
   "execution_count": 19,
   "id": "8e68f7df-c964-4f37-9317-4539eebc83e1",
   "metadata": {},
   "outputs": [],
   "source": [
    "def det():\n",
    "    a1=5+6-7/2\n",
    "    return a1"
   ]
  },
  {
   "cell_type": "code",
   "execution_count": 21,
   "id": "3d4ee2ca-9fa0-4bc7-8bb1-7d80e657584e",
   "metadata": {},
   "outputs": [
    {
     "data": {
      "text/plain": [
       "7.5"
      ]
     },
     "execution_count": 21,
     "metadata": {},
     "output_type": "execute_result"
    }
   ],
   "source": [
    "det()"
   ]
  },
  {
   "cell_type": "code",
   "execution_count": 22,
   "id": "a61ba4ea-ac7e-4062-aa50-8d71e9bbf43f",
   "metadata": {},
   "outputs": [],
   "source": [
    "def farat(a,b,c,d,e,f):\n",
    "    g=(a+b+c+d+e+f)*10\n",
    "    return g"
   ]
  },
  {
   "cell_type": "code",
   "execution_count": 23,
   "id": "50c11e5d-0188-4725-aae3-0c4f0a174f69",
   "metadata": {},
   "outputs": [
    {
     "data": {
      "text/plain": [
       "2100"
      ]
     },
     "execution_count": 23,
     "metadata": {},
     "output_type": "execute_result"
    }
   ],
   "source": [
    "farat(10,20,30,40,50,60)"
   ]
  },
  {
   "cell_type": "code",
   "execution_count": 25,
   "id": "6bb659b7-23d4-4cfe-985c-99c926b8f43f",
   "metadata": {},
   "outputs": [],
   "source": [
    "def fat(x,y):\n",
    "    return (x*y)/2"
   ]
  },
  {
   "cell_type": "code",
   "execution_count": 26,
   "id": "e61c2c47-ebf3-4b47-9037-6485aaf9aca9",
   "metadata": {},
   "outputs": [
    {
     "data": {
      "text/plain": [
       "90.0"
      ]
     },
     "execution_count": 26,
     "metadata": {},
     "output_type": "execute_result"
    }
   ],
   "source": [
    "fat(12,15)"
   ]
  },
  {
   "cell_type": "code",
   "execution_count": 27,
   "id": "c13d5af6-05ce-4c29-aec8-37492780b6e7",
   "metadata": {},
   "outputs": [
    {
     "data": {
      "text/plain": [
       "4080.0"
      ]
     },
     "execution_count": 27,
     "metadata": {},
     "output_type": "execute_result"
    }
   ],
   "source": [
    "fat(85,96)"
   ]
  },
  {
   "cell_type": "code",
   "execution_count": 28,
   "id": "f528c7bd-24da-448a-9cd2-650abd7be57a",
   "metadata": {},
   "outputs": [],
   "source": [
    "def farar(a,b):\n",
    "    return a+b"
   ]
  },
  {
   "cell_type": "code",
   "execution_count": 29,
   "id": "f83c6804-79ca-4089-be6c-20cee63906eb",
   "metadata": {},
   "outputs": [
    {
     "data": {
      "text/plain": [
       "'sudhirkumar'"
      ]
     },
     "execution_count": 29,
     "metadata": {},
     "output_type": "execute_result"
    }
   ],
   "source": [
    "farar('sudhir',\"kumar\")"
   ]
  },
  {
   "cell_type": "code",
   "execution_count": 30,
   "id": "7ca7f31e-373b-456b-a79e-88aaf0d700e3",
   "metadata": {},
   "outputs": [
    {
     "data": {
      "text/plain": [
       "'ram is a god'"
      ]
     },
     "execution_count": 30,
     "metadata": {},
     "output_type": "execute_result"
    }
   ],
   "source": [
    "farar(\"ram \",\"is a god\")"
   ]
  },
  {
   "cell_type": "code",
   "execution_count": 32,
   "id": "ece86cb2-f51b-47ca-89c1-a88e25a944d2",
   "metadata": {},
   "outputs": [
    {
     "data": {
      "text/plain": [
       "'I am not the GOD'"
      ]
     },
     "execution_count": 32,
     "metadata": {},
     "output_type": "execute_result"
    }
   ],
   "source": [
    "farar(\"I am not the\",\" GOD\")"
   ]
  },
  {
   "cell_type": "code",
   "execution_count": 34,
   "id": "f3f0d008-e51a-43c8-b7ae-8ecfb377e40b",
   "metadata": {},
   "outputs": [],
   "source": [
    "l = [1,2,3,4,\"sudh\" , \"kumar\" ,[1,2,3,4,5,6]]"
   ]
  },
  {
   "cell_type": "code",
   "execution_count": 35,
   "id": "289a3678-a577-43d5-b571-a30fedc84cd8",
   "metadata": {},
   "outputs": [],
   "source": [
    "l1 = []\n",
    "for i in l :\n",
    "    if type(i) == int or type(i) == float :\n",
    "        l1.append(i)"
   ]
  },
  {
   "cell_type": "code",
   "execution_count": 36,
   "id": "f30c51fc-9cd3-4ddb-8a9c-9ce46a4ed471",
   "metadata": {},
   "outputs": [
    {
     "data": {
      "text/plain": [
       "[1, 2, 3, 4]"
      ]
     },
     "execution_count": 36,
     "metadata": {},
     "output_type": "execute_result"
    }
   ],
   "source": [
    "l1"
   ]
  },
  {
   "cell_type": "code",
   "execution_count": 37,
   "id": "4fca33a8-51c0-4974-bc59-b364b53abcfb",
   "metadata": {},
   "outputs": [],
   "source": [
    "def test7(l):\n",
    "    l2 = []\n",
    "    for i in l :\n",
    "        if type(i) == int or type(i) == float :\n",
    "            l2.append(i)\n",
    "    return l2"
   ]
  },
  {
   "cell_type": "code",
   "execution_count": 38,
   "id": "20afc53c-e1a5-484a-b856-91314981838d",
   "metadata": {},
   "outputs": [
    {
     "ename": "NameError",
     "evalue": "name 'l2' is not defined",
     "output_type": "error",
     "traceback": [
      "\u001b[0;31m---------------------------------------------------------------------------\u001b[0m",
      "\u001b[0;31mNameError\u001b[0m                                 Traceback (most recent call last)",
      "Cell \u001b[0;32mIn[38], line 1\u001b[0m\n\u001b[0;32m----> 1\u001b[0m \u001b[43ml2\u001b[49m\n",
      "\u001b[0;31mNameError\u001b[0m: name 'l2' is not defined"
     ]
    }
   ],
   "source": [
    "l2"
   ]
  },
  {
   "cell_type": "code",
   "execution_count": null,
   "id": "555865ae-a172-4e08-9615-a1f3179303d6",
   "metadata": {},
   "outputs": [],
   "source": [
    "test7(l)"
   ]
  },
  {
   "cell_type": "code",
   "execution_count": null,
   "id": "93f8e2a8-fcd1-4a87-adb7-0820da8b1766",
   "metadata": {},
   "outputs": [],
   "source": []
  },
  {
   "cell_type": "code",
   "execution_count": null,
   "id": "df62e829-ae91-48cf-8dd2-c40062c691eb",
   "metadata": {},
   "outputs": [],
   "source": [
    "def test8(a) : \n",
    "    l= []\n",
    "    for i in a :\n",
    "        if type(i) == list:\n",
    "            for j in i :\n",
    "                l.append(j)\n",
    "        else :\n",
    "            if type(i) == int or type(i) == float :\n",
    "                l.append(i)\n",
    "    return l"
   ]
  },
  {
   "cell_type": "code",
   "execution_count": null,
   "id": "09664d64-2914-4832-98b5-d9345b6f773e",
   "metadata": {},
   "outputs": [],
   "source": [
    "test8(l)"
   ]
  },
  {
   "cell_type": "code",
   "execution_count": null,
   "id": "ceef623c-0604-4dc8-996b-23f85362646e",
   "metadata": {},
   "outputs": [],
   "source": [
    "def test9(a) :\n",
    "    \"\"\"this is my function to extract num data from list\"\"\"\n",
    "    \n",
    "    l= []\n",
    "    for i in a :\n",
    "        if type(i) == list:\n",
    "            for j in i :\n",
    "                l.append(j)\n",
    "        else :\n",
    "            if type(i) == int or type(i) == float :\n",
    "                l.append(i)\n",
    "    return l"
   ]
  },
  {
   "cell_type": "code",
   "execution_count": 39,
   "id": "eca51305-8a74-4cd4-800e-ba154406f59e",
   "metadata": {},
   "outputs": [],
   "source": [
    "def test13(*args , a) :\n",
    "    return args , a "
   ]
  },
  {
   "cell_type": "code",
   "execution_count": 40,
   "id": "adff2829-bf9a-47fe-89e3-3d915fc1dd87",
   "metadata": {},
   "outputs": [
    {
     "data": {
      "text/plain": [
       "((1, 2, 3, 4), 23)"
      ]
     },
     "execution_count": 40,
     "metadata": {},
     "output_type": "execute_result"
    }
   ],
   "source": [
    "test13(1,2,3,4 , a = 23)"
   ]
  },
  {
   "cell_type": "code",
   "execution_count": 41,
   "id": "7ce72f7c-cc36-4881-8e30-80fdd10cc4f4",
   "metadata": {},
   "outputs": [],
   "source": [
    "def test14(c,d,a = 23 , b = 1 ):\n",
    "    return a,b,c,d"
   ]
  },
  {
   "cell_type": "code",
   "execution_count": 42,
   "id": "f1f88d05-a3c4-4d1a-ae4c-23126188e717",
   "metadata": {},
   "outputs": [],
   "source": [
    "def test15(**kwargs):\n",
    "    return kwargs"
   ]
  },
  {
   "cell_type": "code",
   "execution_count": 43,
   "id": "becc99e0-e762-4ae0-98de-4898739988b1",
   "metadata": {},
   "outputs": [
    {
     "data": {
      "text/plain": [
       "{'a': [1, 2, 3, 4], 'b': 'sudh', 'c': 23.45}"
      ]
     },
     "execution_count": 43,
     "metadata": {},
     "output_type": "execute_result"
    }
   ],
   "source": [
    "test15(a = [1,2,3,4] , b = \"sudh\" , c = 23.45 )"
   ]
  },
  {
   "cell_type": "code",
   "execution_count": 46,
   "id": "63f4e8cd-e9f6-4ea6-9b60-f950c6cff67a",
   "metadata": {},
   "outputs": [
    {
     "data": {
      "text/plain": [
       "{'a': 10, 'b': 15}"
      ]
     },
     "execution_count": 46,
     "metadata": {},
     "output_type": "execute_result"
    }
   ],
   "source": [
    "test15(a=10 ,b=15)"
   ]
  },
  {
   "cell_type": "code",
   "execution_count": 47,
   "id": "1f472792-44ee-495c-bc21-1151145556aa",
   "metadata": {},
   "outputs": [
    {
     "data": {
      "text/plain": [
       "{'d': 14, 'e': 74, 'r': 48, 'f': 96}"
      ]
     },
     "execution_count": 47,
     "metadata": {},
     "output_type": "execute_result"
    }
   ],
   "source": [
    "test15(d=14,e=74,r=48,f=96)"
   ]
  },
  {
   "cell_type": "code",
   "execution_count": null,
   "id": "20be01bc-36cf-4be9-a3db-19ca368472f0",
   "metadata": {},
   "outputs": [],
   "source": []
  }
 ],
 "metadata": {
  "kernelspec": {
   "display_name": "Python 3 (ipykernel)",
   "language": "python",
   "name": "python3"
  },
  "language_info": {
   "codemirror_mode": {
    "name": "ipython",
    "version": 3
   },
   "file_extension": ".py",
   "mimetype": "text/x-python",
   "name": "python",
   "nbconvert_exporter": "python",
   "pygments_lexer": "ipython3",
   "version": "3.10.8"
  }
 },
 "nbformat": 4,
 "nbformat_minor": 5
}
